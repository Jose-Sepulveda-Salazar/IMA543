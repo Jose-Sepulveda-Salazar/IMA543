{
 "cells": [
  {
   "cell_type": "markdown",
   "metadata": {},
   "source": [
    "1. Descripción de la arquitectura apoyándose en el artículo original."
   ]
  },
  {
   "cell_type": "code",
   "execution_count": 3,
   "metadata": {},
   "outputs": [],
   "source": [
    "import numpy as np\n",
    "import matplotlib.pyplot as plt\n",
    "from keras.applications import MobileNet\n",
    "from keras.models import Model\n",
    "from keras.layers import Dense, GlobalAveragePooling2D"
   ]
  },
  {
   "cell_type": "code",
   "execution_count": null,
   "metadata": {},
   "outputs": [],
   "source": [
    "#lectura y carga de las fotos."
   ]
  },
  {
   "cell_type": "markdown",
   "metadata": {},
   "source": [
    "2. Implementación (incluyendo argumentos para iniciar el modelo con Keras)"
   ]
  },
  {
   "cell_type": "code",
   "execution_count": null,
   "metadata": {},
   "outputs": [],
   "source": [
    "modelo_mobilenet = MobileNet(weights='imagenet', include_top=False, input_shape=(224, 224, 3)) #Modelo sin las capas densas (top)\n",
    "\n",
    "#capas densas (totalmente conectadas) en la parte superior\n",
    "\n",
    "#Capa de agrupación global y capa densa (totalmente conectada) en la parte superior del modelo\n",
    "x = modelo_mobilenet.output\n",
    "x = GlobalAveragePooling2D()(x)\n",
    "x = Dense(1024, activation='relu')(x)  # Por ejemplo, una capa densa con 1024 neuronas\n",
    "predictions = Dense(numero_clases, activation='softmax')(x)  # Cambia \"num_classes\" al número de clases de tu problema\n",
    "\n",
    "modelo_final = Model(inputs=modelo_mobilenet.input, outputs=predictions)\n",
    "\n",
    "modelo_final.compile(optimizer='adam', loss='categorical_crossentropy', metrics=['accuracy'])\n",
    "\n",
    "modelo_final.summary()"
   ]
  },
  {
   "cell_type": "markdown",
   "metadata": {},
   "source": [
    "3. Aplicación del modelo en el conjunto de imágenes asignadas al grupo.\n",
    "Discutir los resultados mostrando las clases presentes en sus datos."
   ]
  },
  {
   "cell_type": "code",
   "execution_count": null,
   "metadata": {},
   "outputs": [],
   "source": []
  }
 ],
 "metadata": {
  "kernelspec": {
   "display_name": "IMA543_2024_1",
   "language": "python",
   "name": "python3"
  },
  "language_info": {
   "codemirror_mode": {
    "name": "ipython",
    "version": 3
   },
   "file_extension": ".py",
   "mimetype": "text/x-python",
   "name": "python",
   "nbconvert_exporter": "python",
   "pygments_lexer": "ipython3",
   "version": "3.10.0"
  }
 },
 "nbformat": 4,
 "nbformat_minor": 2
}
